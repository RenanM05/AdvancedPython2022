{
 "cells": [
  {
   "cell_type": "code",
   "execution_count": 17,
   "id": "0126520e-c2dd-4579-9c67-04b67dba9629",
   "metadata": {},
   "outputs": [
    {
     "name": "stdout",
     "output_type": "stream",
     "text": [
      "The memory_profiler extension is already loaded. To reload it, use:\n",
      "  %reload_ext memory_profiler\n",
      "The line_profiler extension is already loaded. To reload it, use:\n",
      "  %reload_ext line_profiler\n"
     ]
    }
   ],
   "source": [
    "#!/usr/bin/python\n",
    "import pdb\n",
    "%load_ext memory_profiler\n",
    "%reload_ext memory_profiler\n",
    "%load_ext line_profiler \n",
    "%reload_ext line_profiler"
   ]
  },
  {
   "cell_type": "code",
   "execution_count": 18,
   "id": "e3d995ed-c7a2-427a-b8a9-d7fed7f8dd61",
   "metadata": {},
   "outputs": [
    {
     "name": "stdout",
     "output_type": "stream",
     "text": [
      "145\n",
      "40585\n"
     ]
    }
   ],
   "source": [
    "def fact(x): return (1 if x==0 else x * fact(x-1))\n",
    "\n",
    "def is_curious(n):\n",
    "    s = str(n)\n",
    "    sum = 0;\n",
    "    for c in s:\n",
    "        sum += fact(int(c))\n",
    "    if(sum == n):\n",
    "        return True\n",
    "    return False\n",
    "\n",
    "def find_curious():\n",
    "    for a in range(10,1000000):\n",
    "        # pdb.set_trace() # add pdb here\n",
    "        if(is_curious(a)):\n",
    "            print(a)\n",
    "\n",
    "find_curious() "
   ]
  },
  {
   "cell_type": "code",
   "execution_count": 19,
   "id": "662e95fb-9651-4b3b-8dc5-c29ff5014dfe",
   "metadata": {},
   "outputs": [
    {
     "name": "stdout",
     "output_type": "stream",
     "text": [
      "ERROR: Could not find file /tmp/ipykernel_8901/4248540513.py\n",
      "\n"
     ]
    },
    {
     "data": {
      "text/plain": [
       "Timer unit: 1e-06 s\n",
       "\n",
       "Total time: 2e-06 s\n",
       "File: /tmp/ipykernel_8901/4248540513.py\n",
       "Function: loop at line 1\n",
       "\n",
       "Line #      Hits         Time  Per Hit   % Time  Line Contents\n",
       "==============================================================\n",
       "     1                                           def loop(N):\n",
       "     2         2          2.0      1.0    100.0      for i in range(N):\n",
       "     3         1          0.0      0.0      0.0          i += 1"
      ]
     },
     "metadata": {},
     "output_type": "display_data"
    }
   ],
   "source": [
    "def loop(N):\n",
    "    for i in range(N):\n",
    "        i += 1\n",
    "\n",
    "%mprun -f loop loop(1)\n",
    "%lprun -f loop loop(1) "
   ]
  },
  {
   "cell_type": "code",
   "execution_count": null,
   "id": "430957c9-83b1-4e19-9bfe-f530caaa8b9d",
   "metadata": {},
   "outputs": [],
   "source": []
  }
 ],
 "metadata": {
  "kernelspec": {
   "display_name": "Python 3 (ipykernel)",
   "language": "python",
   "name": "python3"
  },
  "language_info": {
   "codemirror_mode": {
    "name": "ipython",
    "version": 3
   },
   "file_extension": ".py",
   "mimetype": "text/x-python",
   "name": "python",
   "nbconvert_exporter": "python",
   "pygments_lexer": "ipython3",
   "version": "3.9.7"
  }
 },
 "nbformat": 4,
 "nbformat_minor": 5
}
