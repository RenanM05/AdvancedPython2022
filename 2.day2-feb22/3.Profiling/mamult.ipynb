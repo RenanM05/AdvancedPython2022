{
 "cells": [
  {
   "cell_type": "code",
   "execution_count": 1,
   "id": "a1c9c776-0967-44c9-aabd-1d4b75df94fd",
   "metadata": {},
   "outputs": [],
   "source": [
    "# Program to multiply two matrices using nested loops\n",
    "import random\n",
    "from memory_profiler import profile\n",
    "%load_ext memory_profiler\n",
    "%load_ext line_profiler "
   ]
  },
  {
   "cell_type": "code",
   "execution_count": 2,
   "id": "9e82d66c-af06-4a8d-b2c0-311d3ffafe20",
   "metadata": {},
   "outputs": [
    {
     "ename": "NameError",
     "evalue": "name 'np' is not defined",
     "output_type": "error",
     "traceback": [
      "\u001b[0;31m---------------------------------------------------------------------------\u001b[0m",
      "\u001b[0;31mNameError\u001b[0m                                 Traceback (most recent call last)",
      "Input \u001b[0;32mIn [2]\u001b[0m, in \u001b[0;36m<cell line: 6>\u001b[0;34m()\u001b[0m\n\u001b[1;32m      4\u001b[0m         X\u001b[38;5;241m.\u001b[39mappend([random\u001b[38;5;241m.\u001b[39mrandint(\u001b[38;5;241m0\u001b[39m,\u001b[38;5;241m100\u001b[39m) \u001b[38;5;28;01mfor\u001b[39;00m r \u001b[38;5;129;01min\u001b[39;00m \u001b[38;5;28mrange\u001b[39m(N)])\n\u001b[1;32m      5\u001b[0m     \u001b[38;5;28;01mreturn\u001b[39;00m X\n\u001b[0;32m----> 6\u001b[0m \u001b[38;5;28mprint\u001b[39m(np\u001b[38;5;241m.\u001b[39mshape(X(\u001b[38;5;241m250\u001b[39m)))\n",
      "\u001b[0;31mNameError\u001b[0m: name 'np' is not defined"
     ]
    }
   ],
   "source": [
    "def X(N):\n",
    "    X = []\n",
    "    for i in range(N):\n",
    "        X.append([random.randint(0,100) for r in range(N)])\n",
    "    return X\n",
    "print(np.shape(X(250)))"
   ]
  },
  {
   "cell_type": "code",
   "execution_count": null,
   "id": "96d13c75-b9d8-44b9-aa9a-ba7e359c393b",
   "metadata": {},
   "outputs": [],
   "source": [
    "# NxN matrix\n",
    "def X(N):\n",
    "    X = []\n",
    "    for i in range(N):\n",
    "        X.append([random.randint(0,100) for r in range(N)])\n",
    "    return X\n",
    "\n",
    "# Nx(N+1) matrix\n",
    "def Y(N):\n",
    "    Y = []\n",
    "    for i in range(N):\n",
    "        Y.append([random.randint(0,100) for r in range(N+1)])\n",
    "    return Y\n",
    "\n",
    "# result is Nx(N+1)\n",
    "def result(N):\n",
    "    result = []\n",
    "    for i in range(N):\n",
    "        result.append([0] * (N+1))\n",
    "    return result\n",
    "\n",
    "def iterate(X, Y, result):        \n",
    "    # iterate through rows of X\n",
    "    for i in range(len(X)):\n",
    "        # iterate through columns of Y\n",
    "        for j in range(len(Y[0])):\n",
    "            # iterate through rows of Y\n",
    "            for k in range(len(Y)):\n",
    "                result[i][j] += X[i][k] * Y[k][j]\n",
    "    return result\n",
    "\n",
    "def r(iterate):\n",
    "    for r in iterate:\n",
    "        r\n",
    "\n",
    "N = 50\n",
    "print('X')\n",
    "Xn = X(N)\n",
    "%timeit X(N)\n",
    "%memit  X(N)\n",
    "print('Y')\n",
    "Yn = Y(N)\n",
    "%timeit Y(N)\n",
    "%memit  Y(N)\n",
    "print('Result_n')\n",
    "Result_n = result(N)\n",
    "%timeit result(N)\n",
    "%memit  result(N)\n",
    "print('Iterate_n')\n",
    "Iterate_n = iterate(Xn, Yn, Result_n)\n",
    "%timeit iterate(Xn, Yn, Result_n)\n",
    "%memit  iterate(Xn, Yn, Result_n)\n",
    "print('r_n')\n",
    "r_n = r(Iterate_n)\n",
    "%timeit r(Iterate_n)\n",
    "%memit  r(Iterate_n)\n"
   ]
  },
  {
   "cell_type": "code",
   "execution_count": null,
   "id": "0a71cd94-0078-489d-b672-e38c9c46e5e6",
   "metadata": {},
   "outputs": [],
   "source": []
  },
  {
   "cell_type": "code",
   "execution_count": 3,
   "id": "ca243456-8a0a-404c-9908-e3950f79bed2",
   "metadata": {},
   "outputs": [
    {
     "name": "stdout",
     "output_type": "stream",
     "text": [
      "X\n",
      "7.23 µs ± 142 ns per loop (mean ± std. dev. of 7 runs, 100,000 loops each)\n",
      "peak memory: 89.99 MiB, increment: 0.75 MiB\n",
      "Y\n",
      "7.49 µs ± 433 ns per loop (mean ± std. dev. of 7 runs, 100,000 loops each)\n",
      "peak memory: 90.00 MiB, increment: 0.00 MiB\n",
      "Result_n\n",
      "6.54 µs ± 39 ns per loop (mean ± std. dev. of 7 runs, 100,000 loops each)\n",
      "peak memory: 90.17 MiB, increment: 0.00 MiB\n",
      "Iterate_n\n"
     ]
    },
    {
     "ename": "TypeError",
     "evalue": "unsupported operand type(s) for @: 'map' and 'map'",
     "output_type": "error",
     "traceback": [
      "\u001b[0;31m---------------------------------------------------------------------------\u001b[0m",
      "\u001b[0;31mTypeError\u001b[0m                                 Traceback (most recent call last)",
      "Input \u001b[0;32mIn [3]\u001b[0m, in \u001b[0;36m<cell line: 34>\u001b[0;34m()\u001b[0m\n\u001b[1;32m     30\u001b[0m \u001b[38;5;66;03m# NOT WORKING FROM HERE. \u001b[39;00m\n\u001b[1;32m     31\u001b[0m \u001b[38;5;66;03m# NEED TO CONVERT MAP TO NUMPY MATRIX\u001b[39;00m\n\u001b[1;32m     33\u001b[0m \u001b[38;5;28mprint\u001b[39m(\u001b[38;5;124m'\u001b[39m\u001b[38;5;124mIterate_n\u001b[39m\u001b[38;5;124m'\u001b[39m)\n\u001b[0;32m---> 34\u001b[0m get_ipython()\u001b[38;5;241m.\u001b[39mrun_line_magic(\u001b[38;5;124m'\u001b[39m\u001b[38;5;124mtimeit\u001b[39m\u001b[38;5;124m'\u001b[39m, \u001b[38;5;124m'\u001b[39m\u001b[38;5;124mIterate_n = iterate(Xn, Yn)\u001b[39m\u001b[38;5;124m'\u001b[39m)\n\u001b[1;32m     35\u001b[0m get_ipython()\u001b[38;5;241m.\u001b[39mrun_line_magic(\u001b[38;5;124m'\u001b[39m\u001b[38;5;124mmemit\u001b[39m\u001b[38;5;124m'\u001b[39m, \u001b[38;5;124m'\u001b[39m\u001b[38;5;124m Iterate_n = iterate(Xn, Yn)\u001b[39m\u001b[38;5;124m'\u001b[39m)\n\u001b[1;32m     36\u001b[0m \u001b[38;5;28mprint\u001b[39m(\u001b[38;5;124m'\u001b[39m\u001b[38;5;124mr_n\u001b[39m\u001b[38;5;124m'\u001b[39m)\n",
      "File \u001b[0;32m~/.local/lib/python3.9/site-packages/IPython/core/interactiveshell.py:2264\u001b[0m, in \u001b[0;36mInteractiveShell.run_line_magic\u001b[0;34m(self, magic_name, line, _stack_depth)\u001b[0m\n\u001b[1;32m   2262\u001b[0m     kwargs[\u001b[38;5;124m'\u001b[39m\u001b[38;5;124mlocal_ns\u001b[39m\u001b[38;5;124m'\u001b[39m] \u001b[38;5;241m=\u001b[39m \u001b[38;5;28mself\u001b[39m\u001b[38;5;241m.\u001b[39mget_local_scope(stack_depth)\n\u001b[1;32m   2263\u001b[0m \u001b[38;5;28;01mwith\u001b[39;00m \u001b[38;5;28mself\u001b[39m\u001b[38;5;241m.\u001b[39mbuiltin_trap:\n\u001b[0;32m-> 2264\u001b[0m     result \u001b[38;5;241m=\u001b[39m \u001b[43mfn\u001b[49m\u001b[43m(\u001b[49m\u001b[38;5;241;43m*\u001b[39;49m\u001b[43margs\u001b[49m\u001b[43m,\u001b[49m\u001b[43m \u001b[49m\u001b[38;5;241;43m*\u001b[39;49m\u001b[38;5;241;43m*\u001b[39;49m\u001b[43mkwargs\u001b[49m\u001b[43m)\u001b[49m\n\u001b[1;32m   2265\u001b[0m \u001b[38;5;28;01mreturn\u001b[39;00m result\n",
      "File \u001b[0;32m~/.local/lib/python3.9/site-packages/IPython/core/magics/execution.py:1162\u001b[0m, in \u001b[0;36mExecutionMagics.timeit\u001b[0;34m(self, line, cell, local_ns)\u001b[0m\n\u001b[1;32m   1160\u001b[0m \u001b[38;5;28;01mfor\u001b[39;00m index \u001b[38;5;129;01min\u001b[39;00m \u001b[38;5;28mrange\u001b[39m(\u001b[38;5;241m0\u001b[39m, \u001b[38;5;241m10\u001b[39m):\n\u001b[1;32m   1161\u001b[0m     number \u001b[38;5;241m=\u001b[39m \u001b[38;5;241m10\u001b[39m \u001b[38;5;241m*\u001b[39m\u001b[38;5;241m*\u001b[39m index\n\u001b[0;32m-> 1162\u001b[0m     time_number \u001b[38;5;241m=\u001b[39m \u001b[43mtimer\u001b[49m\u001b[38;5;241;43m.\u001b[39;49m\u001b[43mtimeit\u001b[49m\u001b[43m(\u001b[49m\u001b[43mnumber\u001b[49m\u001b[43m)\u001b[49m\n\u001b[1;32m   1163\u001b[0m     \u001b[38;5;28;01mif\u001b[39;00m time_number \u001b[38;5;241m>\u001b[39m\u001b[38;5;241m=\u001b[39m \u001b[38;5;241m0.2\u001b[39m:\n\u001b[1;32m   1164\u001b[0m         \u001b[38;5;28;01mbreak\u001b[39;00m\n",
      "File \u001b[0;32m~/.local/lib/python3.9/site-packages/IPython/core/magics/execution.py:156\u001b[0m, in \u001b[0;36mTimer.timeit\u001b[0;34m(self, number)\u001b[0m\n\u001b[1;32m    154\u001b[0m gc\u001b[38;5;241m.\u001b[39mdisable()\n\u001b[1;32m    155\u001b[0m \u001b[38;5;28;01mtry\u001b[39;00m:\n\u001b[0;32m--> 156\u001b[0m     timing \u001b[38;5;241m=\u001b[39m \u001b[38;5;28;43mself\u001b[39;49m\u001b[38;5;241;43m.\u001b[39;49m\u001b[43minner\u001b[49m\u001b[43m(\u001b[49m\u001b[43mit\u001b[49m\u001b[43m,\u001b[49m\u001b[43m \u001b[49m\u001b[38;5;28;43mself\u001b[39;49m\u001b[38;5;241;43m.\u001b[39;49m\u001b[43mtimer\u001b[49m\u001b[43m)\u001b[49m\n\u001b[1;32m    157\u001b[0m \u001b[38;5;28;01mfinally\u001b[39;00m:\n\u001b[1;32m    158\u001b[0m     \u001b[38;5;28;01mif\u001b[39;00m gcold:\n",
      "File \u001b[0;32m<magic-timeit>:1\u001b[0m, in \u001b[0;36minner\u001b[0;34m(_it, _timer)\u001b[0m\n",
      "Input \u001b[0;32mIn [3]\u001b[0m, in \u001b[0;36m<lambda>\u001b[0;34m(X, Y)\u001b[0m\n\u001b[1;32m     11\u001b[0m Y \u001b[38;5;241m=\u001b[39m \u001b[38;5;28;01mlambda\u001b[39;00m N: \u001b[38;5;28mmap\u001b[39m(np\u001b[38;5;241m.\u001b[39mappend(Y, \u001b[38;5;28mmap\u001b[39m(rand_numbers, list_range(N))), list_range(N\u001b[38;5;241m+\u001b[39m\u001b[38;5;241m1\u001b[39m))\n\u001b[1;32m     12\u001b[0m R \u001b[38;5;241m=\u001b[39m \u001b[38;5;28;01mlambda\u001b[39;00m N: \u001b[38;5;28mmap\u001b[39m(np\u001b[38;5;241m.\u001b[39mappend(result, [\u001b[38;5;241m0\u001b[39m]\u001b[38;5;241m*\u001b[39m(N\u001b[38;5;241m+\u001b[39m\u001b[38;5;241m1\u001b[39m)), list_range(N))\n\u001b[0;32m---> 13\u001b[0m iterate \u001b[38;5;241m=\u001b[39m \u001b[38;5;28;01mlambda\u001b[39;00m X, Y: \u001b[43mX\u001b[49m\u001b[43m \u001b[49m\u001b[38;5;241;43m@\u001b[39;49m\u001b[43m \u001b[49m\u001b[43mY\u001b[49m\n\u001b[1;32m     15\u001b[0m \u001b[38;5;28;01mdef\u001b[39;00m \u001b[38;5;21mr\u001b[39m(iterate):\n\u001b[1;32m     16\u001b[0m     \u001b[38;5;28;01mfor\u001b[39;00m r \u001b[38;5;129;01min\u001b[39;00m iterate:\n",
      "\u001b[0;31mTypeError\u001b[0m: unsupported operand type(s) for @: 'map' and 'map'"
     ]
    }
   ],
   "source": [
    "import numpy as np\n",
    "# NxN matrix\n",
    "X = np.array([])\n",
    "Y = np.array([])\n",
    "result = np.array([])\n",
    "\n",
    "def rand_numbers(min=0, max=100): return np.random.randint(min,max)\n",
    "def list_range(N): return np.arange(N)\n",
    "\n",
    "X = lambda N: map(np.append(X, map(rand_numbers, list_range(N))), list_range(N))\n",
    "Y = lambda N: map(np.append(Y, map(rand_numbers, list_range(N))), list_range(N+1))\n",
    "R = lambda N: map(np.append(result, [0]*(N+1)), list_range(N))\n",
    "iterate = lambda X, Y: X @ Y\n",
    "\n",
    "def r(iterate):\n",
    "    for r in iterate:\n",
    "        r\n",
    "\n",
    "N = 50\n",
    "print('X')\n",
    "%timeit Xn = X(N)\n",
    "%memit  Xn = X(N)\n",
    "print('Y')\n",
    "%timeit Yn = Y(N)\n",
    "%memit  Yn = Y(N)\n",
    "print('Result_n')\n",
    "%timeit Result_n = R(N)\n",
    "%memit  Result_n = R(N)\n",
    "\n",
    "# NOT WORKING FROM HERE. \n",
    "# NEED TO CONVERT MAP TO NUMPY MATRIX\n",
    "\n",
    "print('Iterate_n')\n",
    "%timeit Iterate_n = iterate(Xn, Yn)\n",
    "%memit  Iterate_n = iterate(Xn, Yn)\n",
    "print('r_n')\n",
    "%timeit r_n = r(Iterate_n)\n",
    "%memit  r_n = r(Iterate_n)"
   ]
  },
  {
   "cell_type": "code",
   "execution_count": null,
   "id": "ee1498c7-44d4-4647-aec0-8d1c704c6a58",
   "metadata": {},
   "outputs": [],
   "source": []
  }
 ],
 "metadata": {
  "kernelspec": {
   "display_name": "Python 3 (ipykernel)",
   "language": "python",
   "name": "python3"
  },
  "language_info": {
   "codemirror_mode": {
    "name": "ipython",
    "version": 3
   },
   "file_extension": ".py",
   "mimetype": "text/x-python",
   "name": "python",
   "nbconvert_exporter": "python",
   "pygments_lexer": "ipython3",
   "version": "3.9.7"
  }
 },
 "nbformat": 4,
 "nbformat_minor": 5
}
