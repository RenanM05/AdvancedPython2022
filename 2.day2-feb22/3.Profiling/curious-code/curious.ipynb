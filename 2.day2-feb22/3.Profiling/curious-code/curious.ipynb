{
 "cells": [
  {
   "cell_type": "code",
   "execution_count": 17,
   "id": "0126520e-c2dd-4579-9c67-04b67dba9629",
   "metadata": {},
   "outputs": [
    {
     "name": "stdout",
     "output_type": "stream",
     "text": [
      "The memory_profiler extension is already loaded. To reload it, use:\n",
      "  %reload_ext memory_profiler\n",
      "The line_profiler extension is already loaded. To reload it, use:\n",
      "  %reload_ext line_profiler\n"
     ]
    }
   ],
   "source": [
    "#!/usr/bin/python\n",
    "import pdb\n",
    "%load_ext memory_profiler\n",
    "%reload_ext memory_profiler\n",
    "%load_ext line_profiler \n",
    "%reload_ext line_profiler"
   ]
  },
  {
   "cell_type": "code",
   "execution_count": 18,
   "id": "e3d995ed-c7a2-427a-b8a9-d7fed7f8dd61",
   "metadata": {},
   "outputs": [
    {
     "name": "stdout",
     "output_type": "stream",
     "text": [
      "145\n",
      "40585\n"
     ]
    }
   ],
   "source": [
    "def fact(x): return (1 if x==0 else x * fact(x-1))\n",
    "\n",
    "def is_curious(n):\n",
    "    s = str(n)\n",
    "    sum = 0;\n",
    "    for c in s:\n",
    "        sum += fact(int(c))\n",
    "    if(sum == n):\n",
    "        return True\n",
    "    return False\n",
    "\n",
    "def find_curious():\n",
    "    for a in range(10,1000000):\n",
    "        # pdb.set_trace() # add pdb here\n",
    "        if(is_curious(a)):\n",
    "            print(a)\n",
    "\n",
    "find_curious() "
   ]
  },
  {
   "cell_type": "code",
   "execution_count": 36,
   "id": "662e95fb-9651-4b3b-8dc5-c29ff5014dfe",
   "metadata": {},
   "outputs": [
    {
     "name": "stdout",
     "output_type": "stream",
     "text": [
      "239 µs ± 8.07 µs per loop (mean ± std. dev. of 7 runs, 1,000 loops each)\n",
      "peak memory: 91.05 MiB, increment: 0.34 MiB\n",
      "250 µs ± 3.13 µs per loop (mean ± std. dev. of 7 runs, 1,000 loops each)\n",
      "peak memory: 91.29 MiB, increment: 0.00 MiB\n",
      "234 ns ± 4.28 ns per loop (mean ± std. dev. of 7 runs, 1,000,000 loops each)\n",
      "peak memory: 91.29 MiB, increment: 0.00 MiB\n"
     ]
    }
   ],
   "source": [
    "from math import sqrt\n",
    "def loop_old_school(N):\n",
    "    for i in range(N):\n",
    "        sqrt(i ** 2)\n",
    "\n",
    "def loop_comprehension(N):\n",
    "    [sqrt(i ** 2) for i in range(N)]\n",
    "    \n",
    "def loop_map(N):\n",
    "    map(abs, range(N))\n",
    "\n",
    "# %mprun -f loop loop(1)\n",
    "# %lprun -f loop loop(1) \n",
    "N=1000\n",
    "%timeit loop_old_school(N)\n",
    "%memit loop_old_school(N)\n",
    "%timeit loop_comprehension(N)\n",
    "%memit loop_comprehension(N)\n",
    "%timeit loop_map(N)\n",
    "%memit loop_map(N)"
   ]
  },
  {
   "cell_type": "code",
   "execution_count": null,
   "id": "430957c9-83b1-4e19-9bfe-f530caaa8b9d",
   "metadata": {},
   "outputs": [],
   "source": []
  }
 ],
 "metadata": {
  "kernelspec": {
   "display_name": "Python 3 (ipykernel)",
   "language": "python",
   "name": "python3"
  },
  "language_info": {
   "codemirror_mode": {
    "name": "ipython",
    "version": 3
   },
   "file_extension": ".py",
   "mimetype": "text/x-python",
   "name": "python",
   "nbconvert_exporter": "python",
   "pygments_lexer": "ipython3",
   "version": "3.9.7"
  }
 },
 "nbformat": 4,
 "nbformat_minor": 5
}
