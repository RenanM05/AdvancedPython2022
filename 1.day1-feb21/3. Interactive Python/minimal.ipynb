{
 "cells": [
  {
   "cell_type": "code",
   "execution_count": 5,
   "id": "4fc13a10-a37d-4d6b-8f6f-7a702db9b85b",
   "metadata": {},
   "outputs": [
    {
     "name": "stdout",
     "output_type": "stream",
     "text": [
      "Median height of goalkeepers: 178.7878359101056\n",
      "Median height of other players: 181.22789755394612\n",
      "The median goalkeepers height is not bigger than that of the other players\n"
     ]
    }
   ],
   "source": [
    "#!/usr/bin/python3.8\n",
    "\n",
    "import numpy as np\n",
    "\n",
    "def load_data():    \n",
    "    # Goalkeeper, defender, midfielder, attacker\n",
    "    possible_positions = ['GK', 'D', 'M', 'A']\n",
    "    N = 100\n",
    "    positions = []\n",
    "    heights = []\n",
    "    for i in range(0,N):\n",
    "        positions.append(possible_positions[np.random.randint(len(possible_positions))])\n",
    "        heights.append(np.random.normal(loc=180.0,scale=5.0))\n",
    "    return positions, heights\n",
    "\n",
    "positions, heights = load_data()\n",
    "\n",
    "np_positions = np.array(positions)\n",
    "np_heights = np.array(heights)\n",
    "\n",
    "# Heights of the goalkeepers: gk_heights\n",
    "gk_heights = np_heights[np_positions == 'GK']\n",
    "\n",
    "# Heights of the other players: other_heights\n",
    "other_heights = np_heights[np_positions != 'GK']\n",
    "\n",
    "# Print out the median height of goalkeepers.\n",
    "print(\"Median height of goalkeepers: \"   + str(np.median(gk_heights)))\n",
    "\n",
    "# Print out the median height of other players.\n",
    "print(\"Median height of other players: \" + str(np.median(other_heights)))\n",
    "\n",
    "if(np.median(gk_heights) > np.median(other_heights)):\n",
    "    print(\"The median goalkeepers height is bigger than that of the other players\")\n",
    "else:\n",
    "    print(\"The median goalkeepers height is not bigger than that of the other players\")"
   ]
  },
  {
   "cell_type": "code",
   "execution_count": null,
   "id": "eaf1591d-f1ff-4278-99fe-f67b79c8900a",
   "metadata": {},
   "outputs": [],
   "source": []
  }
 ],
 "metadata": {
  "kernelspec": {
   "display_name": "Python 3",
   "language": "python",
   "name": "python3"
  },
  "language_info": {
   "codemirror_mode": {
    "name": "ipython",
    "version": 3
   },
   "file_extension": ".py",
   "mimetype": "text/x-python",
   "name": "python",
   "nbconvert_exporter": "python",
   "pygments_lexer": "ipython3",
   "version": "3.9.7"
  }
 },
 "nbformat": 4,
 "nbformat_minor": 5
}
